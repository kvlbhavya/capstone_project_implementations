{
 "cells": [
  {
   "cell_type": "code",
   "execution_count": 1,
   "id": "3672ba8d",
   "metadata": {},
   "outputs": [],
   "source": [
    "import os\n",
    "import random\n",
    "import shutil"
   ]
  },
  {
   "cell_type": "code",
   "execution_count": 3,
   "id": "017434ac",
   "metadata": {},
   "outputs": [
    {
     "name": "stdout",
     "output_type": "stream",
     "text": [
      "Dataset splitting complete!\n"
     ]
    }
   ],
   "source": [
    "import os\n",
    "import shutil\n",
    "import random\n",
    "\n",
    "# Define paths\n",
    "base_path = r'E:\\4TH YEAR\\CAPSTONE\\DATASET'\n",
    "train_path = r'E:\\4TH YEAR\\CAPSTONE\\ORGANISED DATASET\\train'\n",
    "test_path = r'E:\\4TH YEAR\\CAPSTONE\\ORGANISED DATASET\\test'\n",
    "\n",
    "# Create directories for train and test sets\n",
    "os.makedirs(train_path, exist_ok=True)\n",
    "os.makedirs(test_path, exist_ok=True)\n",
    "\n",
    "# Define benign and malignant categories\n",
    "benign_categories = ['adenosis', 'fibroadenoma', 'phyllodes_tumor', 'tubular_adenoma']\n",
    "malignant_categories = ['ductal_carcinoma', 'lobular_carcinoma', 'mucinous_carcinoma', 'papillary_carcinoma']\n",
    "\n",
    "# Function to split dataset\n",
    "def split_dataset(categories, split_ratio=0.8):\n",
    "    for category in categories:\n",
    "        category_path = os.path.join(base_path, 'benign' if category in benign_categories else 'malignant', 'SOB', category)\n",
    "        for subfolder in os.listdir(category_path):\n",
    "            subfolder_path = os.path.join(category_path, subfolder)\n",
    "            if os.path.isdir(subfolder_path):\n",
    "                for magnification in os.listdir(subfolder_path):\n",
    "                    magnification_path = os.path.join(subfolder_path, magnification)\n",
    "                    if os.path.isdir(magnification_path):\n",
    "                        # Collect images\n",
    "                        images = [img for img in os.listdir(magnification_path) if img.lower().endswith(('.png', '.jpg', '.jpeg', '.bmp'))]\n",
    "                        random.shuffle(images)  # Shuffle images\n",
    "                        split_point = int(len(images) * split_ratio)\n",
    "                        \n",
    "                        # Split images into train and test sets\n",
    "                        train_images = images[:split_point]\n",
    "                        test_images = images[split_point:]\n",
    "\n",
    "                        # Create subdirectories for train/test sets\n",
    "                        train_dir = os.path.join(train_path, category, subfolder, magnification)\n",
    "                        test_dir = os.path.join(test_path, category, subfolder, magnification)\n",
    "\n",
    "                        os.makedirs(train_dir, exist_ok=True)\n",
    "                        os.makedirs(test_dir, exist_ok=True)\n",
    "\n",
    "                        # Copy images to the corresponding directories\n",
    "                        for img in train_images:\n",
    "                            shutil.copy(os.path.join(magnification_path, img), train_dir)\n",
    "                        for img in test_images:\n",
    "                            shutil.copy(os.path.join(magnification_path, img), test_dir)\n",
    "\n",
    "# Split datasets\n",
    "split_dataset(benign_categories)\n",
    "split_dataset(malignant_categories)\n",
    "\n",
    "print(\"Dataset splitting complete!\")\n"
   ]
  },
  {
   "cell_type": "code",
   "execution_count": null,
   "id": "1fea3f55",
   "metadata": {},
   "outputs": [],
   "source": []
  }
 ],
 "metadata": {
  "kernelspec": {
   "display_name": "Python 3 (ipykernel)",
   "language": "python",
   "name": "python3"
  },
  "language_info": {
   "codemirror_mode": {
    "name": "ipython",
    "version": 3
   },
   "file_extension": ".py",
   "mimetype": "text/x-python",
   "name": "python",
   "nbconvert_exporter": "python",
   "pygments_lexer": "ipython3",
   "version": "3.9.13"
  }
 },
 "nbformat": 4,
 "nbformat_minor": 5
}
