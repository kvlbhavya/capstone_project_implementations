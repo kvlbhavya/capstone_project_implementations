{
 "cells": [
  {
   "cell_type": "code",
   "execution_count": 1,
   "id": "1162bc22",
   "metadata": {},
   "outputs": [],
   "source": [
    "import tensorflow as tf\n",
    "from tensorflow.keras.preprocessing.image import ImageDataGenerator\n",
    "from tensorflow.keras.applications import VGG16\n",
    "from tensorflow.keras.models import Sequential\n",
    "from tensorflow.keras.layers import Dense, Flatten, Dropout\n",
    "from tensorflow.keras.optimizers import Adam\n",
    "from tensorflow.keras.callbacks import EarlyStopping\n",
    "import matplotlib.pyplot as plt"
   ]
  },
  {
   "cell_type": "code",
   "execution_count": 5,
   "id": "72d0e8c4",
   "metadata": {},
   "outputs": [],
   "source": [
    "# Set up directories for training and testing\n",
    "train_dir = r'K:/PROJECT/ORGANISED DATASET/train'  \n",
    "test_dir = r'K:/PROJECT/ORGANISED DATASET/test'\n",
    "\n",
    "# Set image size and batch size\n",
    "IMG_HEIGHT = 224  # VGG16 input size\n",
    "IMG_WIDTH = 224   # VGG16 input size\n",
    "BATCH_SIZE = 32"
   ]
  },
  {
   "cell_type": "code",
   "execution_count": 6,
   "id": "868f32f3",
   "metadata": {},
   "outputs": [],
   "source": [
    "# Image Preprocessing using ImageDataGenerator\n",
    "train_datagen = ImageDataGenerator(\n",
    "    rescale=1./255,  # Normalize the image\n",
    "    rotation_range=30,  # Random rotations\n",
    "    width_shift_range=0.2,  # Random horizontal shifts\n",
    "    height_shift_range=0.2,  # Random vertical shifts\n",
    "    shear_range=0.2,  # Shear transformations\n",
    "    zoom_range=0.2,  # Zoom in/out\n",
    "    horizontal_flip=True,  # Random horizontal flips\n",
    "    fill_mode='nearest'  # Filling missing pixels after transformations\n",
    ")\n",
    "\n",
    "test_datagen = ImageDataGenerator(rescale=1./255)  # Only rescaling for the test set"
   ]
  },
  {
   "cell_type": "code",
   "execution_count": 7,
   "id": "797bb4d2",
   "metadata": {},
   "outputs": [
    {
     "name": "stdout",
     "output_type": "stream",
     "text": [
      "Found 6185 images belonging to 2 classes.\n",
      "Found 1723 images belonging to 2 classes.\n"
     ]
    }
   ],
   "source": [
    "# Load train and test generators\n",
    "train_generator = train_datagen.flow_from_directory(\n",
    "    train_dir,\n",
    "    target_size=(IMG_HEIGHT, IMG_WIDTH),\n",
    "    batch_size=BATCH_SIZE,\n",
    "    class_mode='binary',  # Binary classification (benign vs malignant)\n",
    "    shuffle=True\n",
    ")\n",
    "\n",
    "test_generator = test_datagen.flow_from_directory(\n",
    "    test_dir,\n",
    "    target_size=(IMG_HEIGHT, IMG_WIDTH),\n",
    "    batch_size=BATCH_SIZE,\n",
    "    class_mode='binary',  # Binary classification (benign vs malignant)\n",
    "    shuffle=False  # Don't shuffle for evaluation\n",
    ")"
   ]
  },
  {
   "cell_type": "code",
   "execution_count": 8,
   "id": "8badff5c",
   "metadata": {},
   "outputs": [
    {
     "name": "stdout",
     "output_type": "stream",
     "text": [
      "Downloading data from https://storage.googleapis.com/tensorflow/keras-applications/vgg16/vgg16_weights_tf_dim_ordering_tf_kernels_notop.h5\n",
      "58889256/58889256 [==============================] - 6s 0us/step\n"
     ]
    }
   ],
   "source": [
    "# Build the VGG16 Model\n",
    "base_model = VGG16(weights='imagenet', include_top=False, input_shape=(IMG_HEIGHT, IMG_WIDTH, 3))\n",
    "\n",
    "# Freeze the base model layers (so they are not trained)\n",
    "base_model.trainable = False\n",
    "\n",
    "# Create the full model by adding custom layers\n",
    "model = Sequential([\n",
    "    base_model,  # Add the pre-trained VGG16 base\n",
    "    Flatten(),  # Flatten the output of the convolutional layers\n",
    "    Dense(128, activation='relu'),  # Fully connected layer\n",
    "    Dropout(0.5),  # Dropout for regularization\n",
    "    Dense(1, activation='sigmoid')  # Output layer for binary classification\n",
    "])"
   ]
  },
  {
   "cell_type": "code",
   "execution_count": 9,
   "id": "176f5107",
   "metadata": {},
   "outputs": [],
   "source": [
    "# Compile the model\n",
    "model.compile(optimizer=Adam(learning_rate=0.001), loss='binary_crossentropy', metrics=['accuracy'])"
   ]
  },
  {
   "cell_type": "code",
   "execution_count": 10,
   "id": "5fe88b3e",
   "metadata": {},
   "outputs": [],
   "source": [
    "# Set up EarlyStopping to stop training early if validation loss doesn't improve\n",
    "early_stopping = EarlyStopping(monitor='val_loss', patience=5, restore_best_weights=True)\n"
   ]
  },
  {
   "cell_type": "code",
   "execution_count": 13,
   "id": "44e9e4f2",
   "metadata": {},
   "outputs": [
    {
     "name": "stdout",
     "output_type": "stream",
     "text": [
      "Epoch 1/10\n",
      "194/194 [==============================] - 1717s 9s/step - loss: 0.4822 - accuracy: 0.7449 - val_loss: 0.3995 - val_accuracy: 0.8091\n",
      "Epoch 2/10\n",
      "194/194 [==============================] - 1716s 9s/step - loss: 0.4745 - accuracy: 0.7504 - val_loss: 0.4003 - val_accuracy: 0.8149\n",
      "Epoch 3/10\n",
      "194/194 [==============================] - 1721s 9s/step - loss: 0.4812 - accuracy: 0.7538 - val_loss: 0.3729 - val_accuracy: 0.8352\n",
      "Epoch 4/10\n",
      "194/194 [==============================] - 1721s 9s/step - loss: 0.4683 - accuracy: 0.7586 - val_loss: 0.3785 - val_accuracy: 0.8311\n",
      "Epoch 5/10\n",
      "194/194 [==============================] - 1721s 9s/step - loss: 0.4645 - accuracy: 0.7541 - val_loss: 0.3957 - val_accuracy: 0.7858\n",
      "Epoch 6/10\n",
      "194/194 [==============================] - 1732s 9s/step - loss: 0.4570 - accuracy: 0.7551 - val_loss: 0.3601 - val_accuracy: 0.8433\n",
      "Epoch 7/10\n",
      "194/194 [==============================] - 1722s 9s/step - loss: 0.4436 - accuracy: 0.7610 - val_loss: 0.3438 - val_accuracy: 0.8520\n",
      "Epoch 8/10\n",
      "194/194 [==============================] - 1719s 9s/step - loss: 0.4370 - accuracy: 0.7633 - val_loss: 0.3838 - val_accuracy: 0.8079\n",
      "Epoch 9/10\n",
      "194/194 [==============================] - 1732s 9s/step - loss: 0.4366 - accuracy: 0.7636 - val_loss: 0.3740 - val_accuracy: 0.8114\n",
      "Epoch 10/10\n",
      "194/194 [==============================] - 1719s 9s/step - loss: 0.4324 - accuracy: 0.7669 - val_loss: 0.3829 - val_accuracy: 0.7824\n"
     ]
    }
   ],
   "source": [
    "# Train the model\n",
    "history = model.fit(\n",
    "    train_generator,\n",
    "    epochs=10,\n",
    "    validation_data=test_generator,\n",
    "    callbacks=[early_stopping]  # Use early stopping to prevent overfitting\n",
    ")"
   ]
  },
  {
   "cell_type": "code",
   "execution_count": 14,
   "id": "8ca52812",
   "metadata": {},
   "outputs": [
    {
     "name": "stderr",
     "output_type": "stream",
     "text": [
      "C:\\Users\\K M SASTRY\\anaconda3\\Lib\\site-packages\\keras\\src\\engine\\training.py:3000: UserWarning: You are saving your model as an HDF5 file via `model.save()`. This file format is considered legacy. We recommend using instead the native Keras format, e.g. `model.save('my_model.keras')`.\n",
      "  saving_api.save_model(\n"
     ]
    }
   ],
   "source": [
    "# Save the trained model\n",
    "model.save(\"C:/Users/K M SASTRY/Desktop/PROJECT/vgg16_model.h5\")"
   ]
  },
  {
   "cell_type": "code",
   "execution_count": 15,
   "id": "9fc67d7b",
   "metadata": {},
   "outputs": [
    {
     "name": "stdout",
     "output_type": "stream",
     "text": [
      "54/54 [==============================] - 371s 7s/step - loss: 0.3829 - accuracy: 0.7824\n",
      "Test accuracy: 78.24%\n"
     ]
    },
    {
     "data": {
      "image/png": "[encoded data removed]",
      "text/plain": [
       "<Figure size 1200x400 with 2 Axes>"
      ]
     },
     "metadata": {},
     "output_type": "display_data"
    }
   ],
   "source": [
    "# Evaluate the model on the test set\n",
    "test_loss, test_accuracy = model.evaluate(test_generator)\n",
    "print(f\"Test accuracy: {test_accuracy * 100:.2f}%\")# Plot the training and validation accuracy and loss over epochs\n",
    "plt.figure(figsize=(12, 4))\n",
    "\n",
    "# Accuracy Plot\n",
    "plt.subplot(1, 2, 1)\n",
    "plt.plot(history.history['accuracy'], label='Training Accuracy')\n",
    "plt.plot(history.history['val_accuracy'], label='Validation Accuracy')\n",
    "plt.title('Accuracy')\n",
    "plt.xlabel('Epochs')\n",
    "plt.ylabel('Accuracy')\n",
    "plt.legend()\n",
    "\n",
    "# Loss Plot\n",
    "plt.subplot(1, 2, 2)\n",
    "plt.plot(history.history['loss'], label='Training Loss')\n",
    "plt.plot(history.history['val_loss'], label='Validation Loss')\n",
    "plt.title('Loss')\n",
    "plt.xlabel('Epochs')\n",
    "plt.ylabel('Loss')\n",
    "plt.legend()\n",
    "\n",
    "plt.show()"
   ]
  },
  {
   "cell_type": "code",
   "execution_count": 20,
   "id": "c29ec274",
   "metadata": {},
   "outputs": [
    {
     "name": "stdout",
     "output_type": "stream",
     "text": [
      "1/1 [==============================] - 0s 295ms/step\n",
      "Predicted class: Benign\n"
     ]
    }
   ],
   "source": [
    "from tensorflow.keras.preprocessing import image\n",
    "import numpy as np\n",
    "\n",
    "# Example image path\n",
    "img_path = r\"K:\\PROJECT\\ORGANISED DATASET\\test\\BENIGN\\fibroadenoma\\SOB_B_F_14-21998EF\\100X\\SOB_B_F-14-21998EF-100-009.png\"\n",
    "\n",
    "# Load and preprocess the image\n",
    "img = image.load_img(img_path, target_size=(224, 224))  # Ensure target size matches your model input\n",
    "img_array = image.img_to_array(img)  # Convert the image to an array\n",
    "img_array = np.expand_dims(img_array, axis=0)  # Add batch dimension\n",
    "img_array /= 255.0  # Normalize the image\n",
    "\n",
    "# Make a prediction\n",
    "prediction = model.predict(img_array)\n",
    "if prediction < 0.5:\n",
    "    print(\"Predicted class: Benign\")\n",
    "else:\n",
    "    print(\"Predicted class: Malignant\")"
   ]
  },
  {
   "cell_type": "code",
   "execution_count": 18,
   "id": "6c7562da",
   "metadata": {},
   "outputs": [
    {
     "name": "stdout",
     "output_type": "stream",
     "text": [
      "1/1 [==============================] - 0s 285ms/step\n",
      "Predicted class: Malignant\n"
     ]
    }
   ],
   "source": [
    "# To make predictions on a new image\n",
    "from tensorflow.keras.preprocessing import image\n",
    "import numpy as np\n",
    "\n",
    "# Example image path (replace with the path of an image you want to test)\n",
    "img_path = r\"K:\\PROJECT\\ORGANISED DATASET\\test\\MALIGNANT\\mucinous_carcinoma\\SOB_M_MC_14-13413\\200X\\SOB_M_MC-14-13413-200-005.png\"\n",
    "\n",
    "# Load and preprocess the image\n",
    "img = image.load_img(img_path, target_size=(IMG_HEIGHT, IMG_WIDTH))\n",
    "img_array = image.img_to_array(img)  # Convert the image to an array\n",
    "img_array = np.expand_dims(img_array, axis=0)  # Add batch dimension\n",
    "img_array /= 255.0  # Normalize the image\n",
    "\n",
    "# Make a prediction\n",
    "prediction = model.predict(img_array)\n",
    "if prediction < 0.5:\n",
    "    print(\"Predicted class: Benign\")\n",
    "else:\n",
    "    print(\"Predicted class: Malignant\")\n"
   ]
  },
  {
   "cell_type": "code",
   "execution_count": 22,
   "id": "992db268",
   "metadata": {},
   "outputs": [
    {
     "name": "stdout",
     "output_type": "stream",
     "text": [
      "1/1 [==============================] - 0s 287ms/step\n",
      "Predicted class: Benign\n"
     ]
    }
   ],
   "source": [
    "from tensorflow.keras.preprocessing import image\n",
    "import numpy as np\n",
    "\n",
    "# Example image path\n",
    "img_path = r\"K:\\PROJECT\\ORGANISED DATASET\\test\\BENIGN\\adenosis\\SOB_B_A_14-22549AB\\40X\\SOB_B_A-14-22549AB-40-001.png\"\n",
    "\n",
    "# Load and preprocess the image\n",
    "img = image.load_img(img_path, target_size=(224, 224))  # Ensure target size matches your model input\n",
    "img_array = image.img_to_array(img)  # Convert the image to an array\n",
    "img_array = np.expand_dims(img_array, axis=0)  # Add batch dimension\n",
    "img_array /= 255.0  # Normalize the image\n",
    "\n",
    "# Make a prediction\n",
    "prediction = model.predict(img_array)\n",
    "if prediction < 0.5:\n",
    "    print(\"Predicted class: Benign\")\n",
    "else:\n",
    "    print(\"Predicted class: Malignant\")"
   ]
  },
  {
   "cell_type": "code",
   "execution_count": 23,
   "id": "76abb6ee",
   "metadata": {},
   "outputs": [
    {
     "name": "stdout",
     "output_type": "stream",
     "text": [
      "1/1 [==============================] - 0s 287ms/step\n",
      "Predicted class: Malignant\n"
     ]
    }
   ],
   "source": [
    "# To make predictions on a new image\n",
    "from tensorflow.keras.preprocessing import image\n",
    "import numpy as np\n",
    "\n",
    "# Example image path (replace with the path of an image you want to test)\n",
    "img_path = r\"K:\\PROJECT\\ORGANISED DATASET\\test\\MALIGNANT\\ductal_carcinoma\\SOB_M_DC_14-4364\\100X\\SOB_M_DC-14-4364-100-002.png\"\n",
    "\n",
    "# Load and preprocess the image\n",
    "img = image.load_img(img_path, target_size=(IMG_HEIGHT, IMG_WIDTH))\n",
    "img_array = image.img_to_array(img)  # Convert the image to an array\n",
    "img_array = np.expand_dims(img_array, axis=0)  # Add batch dimension\n",
    "img_array /= 255.0  # Normalize the image\n",
    "\n",
    "# Make a prediction\n",
    "prediction = model.predict(img_array)\n",
    "if prediction < 0.5:\n",
    "    print(\"Predicted class: Benign\")\n",
    "else:\n",
    "    print(\"Predicted class: Malignant\")\n"
   ]
  }
 ],
 "metadata": {
  "kernelspec": {
   "display_name": "Python 3 (ipykernel)",
   "language": "python",
   "name": "python3"
  },
  "language_info": {
   "codemirror_mode": {
    "name": "ipython",
    "version": 3
   },
   "file_extension": ".py",
   "mimetype": "text/x-python",
   "name": "python",
   "nbconvert_exporter": "python",
   "pygments_lexer": "ipython3",
   "version": "3.11.5"
  }
 },
 "nbformat": 4,
 "nbformat_minor": 5
}
